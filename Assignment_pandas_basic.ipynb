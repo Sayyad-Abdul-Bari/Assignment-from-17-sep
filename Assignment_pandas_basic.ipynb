{
 "cells": [
  {
   "cell_type": "markdown",
   "id": "a73a2596-f095-41b9-8125-520ef6fadb30",
   "metadata": {},
   "source": [
    "# 1. Create a Pandas Series that contains the following data: 4, 8, 15, 16, 23, and 42. Then, print the series."
   ]
  },
  {
   "cell_type": "code",
   "execution_count": 2,
   "id": "a2fb9a4a-bedb-4aea-9045-aa2639521a50",
   "metadata": {},
   "outputs": [
    {
     "data": {
      "text/plain": [
       "0     4\n",
       "1     8\n",
       "2    15\n",
       "3    16\n",
       "4    23\n",
       "5    42\n",
       "dtype: int64"
      ]
     },
     "execution_count": 2,
     "metadata": {},
     "output_type": "execute_result"
    }
   ],
   "source": [
    "import pandas as pd\n",
    "data = [4, 8, 15, 16, 23, 42]\n",
    "series = pd.Series(data)\n",
    "series"
   ]
  },
  {
   "cell_type": "markdown",
   "id": "c8003fb4-4d2b-412b-a04f-566d30b9e6c3",
   "metadata": {},
   "source": [
    "## 2. Create a variable of list type containing 10 elements in it, and apply pandas.Series function on the variable print it."
   ]
  },
  {
   "cell_type": "code",
   "execution_count": 4,
   "id": "8da3aac5-e256-42d5-b970-b2bf8c9d9c6c",
   "metadata": {},
   "outputs": [
    {
     "data": {
      "text/plain": [
       "0    29\n",
       "1    11\n",
       "2    25\n",
       "3    14\n",
       "4    28\n",
       "5     3\n",
       "6    25\n",
       "7    18\n",
       "8    25\n",
       "9    23\n",
       "dtype: int64"
      ]
     },
     "execution_count": 4,
     "metadata": {},
     "output_type": "execute_result"
    }
   ],
   "source": [
    "import random \n",
    "variable = [random.randint(1,33) for _ in range(10)]\n",
    "series = pd.Series(variable)\n",
    "series"
   ]
  },
  {
   "attachments": {
    "355761a7-d52a-425c-8bef-dc497ca5dc99.png": {
     "image/png": "[encoded data removed]"
    }
   },
   "cell_type": "markdown",
   "id": "d05f57d0-49ba-425c-a9ef-826919bd6faa",
   "metadata": {
    "tags": []
   },
   "source": [
    "## 3. Create a Pandas DataFrame that contains the following data:\n",
    "![image.png](attachment:355761a7-d52a-425c-8bef-dc497ca5dc99.png)\n",
    "## Then, print the DataFrame."
   ]
  },
  {
   "cell_type": "code",
   "execution_count": 10,
   "id": "2edcc111-0777-4f68-afd2-08edddcab4d7",
   "metadata": {},
   "outputs": [
    {
     "data": {
      "text/html": [
       "<div>\n",
       "<style scoped>\n",
       "    .dataframe tbody tr th:only-of-type {\n",
       "        vertical-align: middle;\n",
       "    }\n",
       "\n",
       "    .dataframe tbody tr th {\n",
       "        vertical-align: top;\n",
       "    }\n",
       "\n",
       "    .dataframe thead th {\n",
       "        text-align: right;\n",
       "    }\n",
       "</style>\n",
       "<table border=\"1\" class=\"dataframe\">\n",
       "  <thead>\n",
       "    <tr style=\"text-align: right;\">\n",
       "      <th></th>\n",
       "      <th>Name</th>\n",
       "      <th>Age</th>\n",
       "      <th>Gender</th>\n",
       "    </tr>\n",
       "  </thead>\n",
       "  <tbody>\n",
       "    <tr>\n",
       "      <th>0</th>\n",
       "      <td>Alice</td>\n",
       "      <td>25</td>\n",
       "      <td>Female</td>\n",
       "    </tr>\n",
       "    <tr>\n",
       "      <th>1</th>\n",
       "      <td>Bob</td>\n",
       "      <td>30</td>\n",
       "      <td>Male</td>\n",
       "    </tr>\n",
       "    <tr>\n",
       "      <th>2</th>\n",
       "      <td>Claire</td>\n",
       "      <td>27</td>\n",
       "      <td>Female</td>\n",
       "    </tr>\n",
       "  </tbody>\n",
       "</table>\n",
       "</div>"
      ],
      "text/plain": [
       "     Name  Age  Gender\n",
       "0   Alice   25  Female\n",
       "1     Bob   30    Male\n",
       "2  Claire   27  Female"
      ]
     },
     "execution_count": 10,
     "metadata": {},
     "output_type": "execute_result"
    }
   ],
   "source": [
    "data = {\n",
    "    'Name':['Alice', 'Bob', 'Claire'],\n",
    "    'Age': [25,30,27],\n",
    "    'Gender': ['Female','Male','Female']\n",
    "}\n",
    "\n",
    "pd.DataFrame(data)"
   ]
  },
  {
   "cell_type": "markdown",
   "id": "39665602-7cfa-456b-8bde-9363c7d0291f",
   "metadata": {},
   "source": [
    "## 4. What is ‘DataFrame’ in pandas and how is it different from pandas.series? Explain with an example."
   ]
  },
  {
   "cell_type": "markdown",
   "id": "9be91822-053a-400c-9c8e-fba87ecd260e",
   "metadata": {},
   "source": [
    "### DataFrame:\n",
    "\n",
    "- A DataFrame is a 2-dimensional labeled data structure, somewhat like a spreadsheet or SQL table. It consists of rows and columns.\n",
    "- Each column in a DataFrame is a Pandas Series.\n",
    "- A DataFrame is a collection of Series that share a common index.\n",
    "- It is suitable for handling structured data where you have multiple variables or attributes associated with each observation.\n",
    "### Series:\n",
    "\n",
    "- A Series is a 1-dimensional labeled array that can hold data of any type (integers, strings, floats, etc.).\n",
    "- It is essentially a single column or a single variable.\n",
    "- Series objects have their own indexes that allow for fast and efficient data retrieval.\n",
    "- Series are used for handling single columns or extracting a single variable from a DataFrame."
   ]
  },
  {
   "cell_type": "code",
   "execution_count": 11,
   "id": "b3771350-6135-45ca-947b-4a5fcac3e3a7",
   "metadata": {},
   "outputs": [
    {
     "name": "stdout",
     "output_type": "stream",
     "text": [
      "DataFrame:\n",
      "     Name  Age  Gender\n",
      "0   Alice   25  Female\n",
      "1     Bob   30    Male\n",
      "2  Claire   27  Female\n",
      "\n",
      "Series:\n",
      "0    25\n",
      "1    30\n",
      "2    27\n",
      "dtype: int64\n"
     ]
    }
   ],
   "source": [
    "import pandas as pd\n",
    "\n",
    "# Creating a DataFrame\n",
    "data = {\n",
    "    'Name': ['Alice', 'Bob', 'Claire'],\n",
    "    'Age': [25, 30, 27],\n",
    "    'Gender': ['Female', 'Male', 'Female']\n",
    "}\n",
    "\n",
    "df = pd.DataFrame(data)\n",
    "\n",
    "# Creating a Series\n",
    "ages = pd.Series([25, 30, 27])\n",
    "\n",
    "# Printing the DataFrame and Series\n",
    "print(\"DataFrame:\")\n",
    "print(df)\n",
    "print(\"\\nSeries:\")\n",
    "print(ages)\n"
   ]
  },
  {
   "cell_type": "markdown",
   "id": "5986d783-f600-40f3-80ec-5a8f40ad99fa",
   "metadata": {},
   "source": [
    "## 5. What are some common functions you can use to manipulate data in a Pandas DataFrame? Can you give an example of when you might use one of these functions?"
   ]
  },
  {
   "cell_type": "markdown",
   "id": "0e13d891-319b-4cbb-a603-f95abb3fb433",
   "metadata": {},
   "source": [
    "\n",
    "| Function          | Description                                           | Example                                           |\n",
    "|-------------------|-------------------------------------------------------|---------------------------------------------------|\n",
    "| `head()`          | View the first N rows of a DataFrame.                | `df.head()`                                       |\n",
    "| `tail()`          | View the last N rows of a DataFrame.                 | `df.tail()`                                       |\n",
    "| `info()`          | Display summary information about the DataFrame.     | `df.info()`                                       |\n",
    "| `describe()`      | Generate summary statistics for numerical columns.   | `df.describe()`                                   |\n",
    "| `value_counts()`  | Count unique values in a column.                     | `df['Column'].value_counts()`                    |\n",
    "| `groupby()`       | Group data by one or more columns for aggregation.   | `df.groupby('Column')['Value'].agg_func()`       |\n",
    "| `sort_values()`   | Sort the DataFrame by one or more columns.           | `df.sort_values(by='Column', ascending=True)`     |\n",
    "| `filter()`        | Filter rows based on a condition.                   | `df[df['Condition']]`                            |\n",
    "| `pivot_table()`   | Create a pivot table for summarization.              | `df.pivot_table(index='Index', values='Value')`  |\n",
    "| `fillna()`        | Fill missing values in the DataFrame.               | `df['Column'].fillna(value, inplace=True)`       |\n",
    "| `drop()`          | Remove columns or rows from the DataFrame.          | `df.drop(columns='Column', inplace=True)`        |\n",
    "\n"
   ]
  },
  {
   "cell_type": "code",
   "execution_count": 13,
   "id": "e6edf9f5-66f4-4de8-994b-f97c3ae90079",
   "metadata": {},
   "outputs": [
    {
     "data": {
      "text/plain": [
       "Gender\n",
       "Female    26.0\n",
       "Male      30.0\n",
       "Name: Age, dtype: float64"
      ]
     },
     "execution_count": 13,
     "metadata": {},
     "output_type": "execute_result"
    }
   ],
   "source": [
    "# Example: Grouping data by 'Gender' and calculating the mean age for each group\n",
    "df.groupby('Gender')['Age'].mean()\n"
   ]
  },
  {
   "cell_type": "code",
   "execution_count": 14,
   "id": "4130a6a7-daa3-4b80-8a59-c91337a5b0d2",
   "metadata": {},
   "outputs": [
    {
     "data": {
      "text/html": [
       "<div>\n",
       "<style scoped>\n",
       "    .dataframe tbody tr th:only-of-type {\n",
       "        vertical-align: middle;\n",
       "    }\n",
       "\n",
       "    .dataframe tbody tr th {\n",
       "        vertical-align: top;\n",
       "    }\n",
       "\n",
       "    .dataframe thead th {\n",
       "        text-align: right;\n",
       "    }\n",
       "</style>\n",
       "<table border=\"1\" class=\"dataframe\">\n",
       "  <thead>\n",
       "    <tr style=\"text-align: right;\">\n",
       "      <th></th>\n",
       "      <th>Age</th>\n",
       "    </tr>\n",
       "    <tr>\n",
       "      <th>Gender</th>\n",
       "      <th></th>\n",
       "    </tr>\n",
       "  </thead>\n",
       "  <tbody>\n",
       "    <tr>\n",
       "      <th>Female</th>\n",
       "      <td>26</td>\n",
       "    </tr>\n",
       "    <tr>\n",
       "      <th>Male</th>\n",
       "      <td>30</td>\n",
       "    </tr>\n",
       "  </tbody>\n",
       "</table>\n",
       "</div>"
      ],
      "text/plain": [
       "        Age\n",
       "Gender     \n",
       "Female   26\n",
       "Male     30"
      ]
     },
     "execution_count": 14,
     "metadata": {},
     "output_type": "execute_result"
    }
   ],
   "source": [
    "# Example: Creating a pivot table to calculate the mean age by 'Gender'\n",
    "df.pivot_table(index='Gender', values='Age', aggfunc='mean')\n"
   ]
  },
  {
   "cell_type": "markdown",
   "id": "8d968919-04e7-4d2b-b238-a341687030d7",
   "metadata": {},
   "source": [
    "## 6. Which of the following is mutable in nature Series, DataFrame, Panel?"
   ]
  },
  {
   "cell_type": "markdown",
   "id": "b1698109-bd50-48ac-bdab-005deb827088",
   "metadata": {},
   "source": [
    "Series, DataFrame both are mutable\n",
    "\n",
    "Update in September 2021, Pandas has deprecated the `Panel` data structure. The `Panel` was a 3D data structure in Pandas, similar to a `DataFrame` but with three dimensions. Due to its limited use and the complexity it introduced, it was deprecated in favor of using `DataFrame` and `MultiIndex` for handling multi-dimensional data."
   ]
  },
  {
   "cell_type": "markdown",
   "id": "09041aef-6fe8-45c9-b666-392d5859669e",
   "metadata": {},
   "source": [
    "## 7. Create a DataFrame using multiple Series. Explain with an example."
   ]
  },
  {
   "cell_type": "code",
   "execution_count": 15,
   "id": "61f9661c-e818-4fcd-b599-7202a0be9f4b",
   "metadata": {},
   "outputs": [],
   "source": [
    "# Create multiple Series\n",
    "name_series = pd.Series(['Alice', 'Bob', 'Claire'])\n",
    "age_series = pd.Series([25, 30, 27])\n",
    "gender_series = pd.Series(['Female', 'Male', 'Female'])\n",
    "\n",
    "# Combine the Series into a DataFrame\n",
    "data = {'Name': name_series, 'Age': age_series, 'Gender': gender_series}"
   ]
  },
  {
   "cell_type": "code",
   "execution_count": 16,
   "id": "5c442b54-0094-4f77-83dd-dd02e3529671",
   "metadata": {},
   "outputs": [
    {
     "data": {
      "text/html": [
       "<div>\n",
       "<style scoped>\n",
       "    .dataframe tbody tr th:only-of-type {\n",
       "        vertical-align: middle;\n",
       "    }\n",
       "\n",
       "    .dataframe tbody tr th {\n",
       "        vertical-align: top;\n",
       "    }\n",
       "\n",
       "    .dataframe thead th {\n",
       "        text-align: right;\n",
       "    }\n",
       "</style>\n",
       "<table border=\"1\" class=\"dataframe\">\n",
       "  <thead>\n",
       "    <tr style=\"text-align: right;\">\n",
       "      <th></th>\n",
       "      <th>Name</th>\n",
       "      <th>Age</th>\n",
       "      <th>Gender</th>\n",
       "    </tr>\n",
       "  </thead>\n",
       "  <tbody>\n",
       "    <tr>\n",
       "      <th>0</th>\n",
       "      <td>Alice</td>\n",
       "      <td>25</td>\n",
       "      <td>Female</td>\n",
       "    </tr>\n",
       "    <tr>\n",
       "      <th>1</th>\n",
       "      <td>Bob</td>\n",
       "      <td>30</td>\n",
       "      <td>Male</td>\n",
       "    </tr>\n",
       "    <tr>\n",
       "      <th>2</th>\n",
       "      <td>Claire</td>\n",
       "      <td>27</td>\n",
       "      <td>Female</td>\n",
       "    </tr>\n",
       "  </tbody>\n",
       "</table>\n",
       "</div>"
      ],
      "text/plain": [
       "     Name  Age  Gender\n",
       "0   Alice   25  Female\n",
       "1     Bob   30    Male\n",
       "2  Claire   27  Female"
      ]
     },
     "execution_count": 16,
     "metadata": {},
     "output_type": "execute_result"
    }
   ],
   "source": [
    "pd.DataFrame(data)"
   ]
  },
  {
   "cell_type": "code",
   "execution_count": null,
   "id": "175b1804-481a-4c0e-a3a6-c2c5a0b56c5c",
   "metadata": {},
   "outputs": [],
   "source": []
  }
 ],
 "metadata": {
  "kernelspec": {
   "display_name": "Python 3 (ipykernel)",
   "language": "python",
   "name": "python3"
  },
  "language_info": {
   "codemirror_mode": {
    "name": "ipython",
    "version": 3
   },
   "file_extension": ".py",
   "mimetype": "text/x-python",
   "name": "python",
   "nbconvert_exporter": "python",
   "pygments_lexer": "ipython3",
   "version": "3.10.8"
  }
 },
 "nbformat": 4,
 "nbformat_minor": 5
}
